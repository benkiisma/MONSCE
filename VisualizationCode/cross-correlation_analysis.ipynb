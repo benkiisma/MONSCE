{
 "cells": [
  {
   "cell_type": "markdown",
   "metadata": {},
   "source": [
    "This notebook contains the detailed cross-correlation extraction and analysis.\n",
    "\n",
    "- **Author**: Benkirane Ismail\n",
    "- **Email**: [ibenkirane@mgb.org](mailto:ibenkirane@mgb.org)\n",
    "- **Version**: 1.0.0\n",
    "- **Date**: 2023-10-19\n"
   ]
  },
  {
   "cell_type": "markdown",
   "metadata": {},
   "source": [
    "## Imports"
   ]
  },
  {
   "cell_type": "code",
   "execution_count": null,
   "metadata": {},
   "outputs": [],
   "source": [
    "import sys\n",
    "import pandas as pd\n",
    "\n",
    "sys.path.append('../')\n",
    "\n",
    "from utils import UTILITIES, CORRELATION, CrossCorrelation"
   ]
  },
  {
   "cell_type": "markdown",
   "metadata": {},
   "source": [
    "## Get Metadata"
   ]
  },
  {
   "cell_type": "code",
   "execution_count": null,
   "metadata": {},
   "outputs": [],
   "source": [
    "desired_measurement = ['Empatica', 'Audio', 'FaceReader', 'GoPro']\n",
    "save = True\n",
    "\n",
    "groups = {\n",
    "    'Cluster 1' : [1003, 1007, 1013, 1015, 1020, 1024, 1026],\n",
    "    'Cluster 2' : [1001, 1031, 1032, 1037, 1039],\n",
    "    'Cluster 3' : [1008, 1017, 1022, 1025, 1033, 1040, 1041, 1042],\n",
    "    'All Subjects': [1001, 1003, 1007, 1008, 1013, 1015, 1017, 1020, 1022, 1024, 1025, 1026, 1031, 1032, 1033, 1037, 1039, 1040, 1041]\n",
    "    }"
   ]
  },
  {
   "cell_type": "code",
   "execution_count": null,
   "metadata": {},
   "outputs": [],
   "source": [
    "utilities = UTILITIES()\n",
    "correlation = CORRELATION(desired_measurement)\n",
    "cross_correlation = CrossCorrelation(desired_measurement)"
   ]
  },
  {
   "cell_type": "markdown",
   "metadata": {},
   "source": [
    "# Express Cross-Correlation extraction"
   ]
  },
  {
   "cell_type": "code",
   "execution_count": null,
   "metadata": {},
   "outputs": [],
   "source": [
    "if save:\n",
    "    cross_correlation.save_all_cross_correlation_results(desired_measurement=desired_measurement, subject_groups = groups, include_pairs = True, only_pairs=False)\n",
    "    #cross_correlation.save_all_shift_stat_graphs(desired_measurement=['Empatica', 'Audio', 'Webcam', 'GoPro'])"
   ]
  },
  {
   "cell_type": "markdown",
   "metadata": {},
   "source": [
    "# Data Loading"
   ]
  },
  {
   "cell_type": "code",
   "execution_count": null,
   "metadata": {},
   "outputs": [],
   "source": [
    "if isinstance(desired_measurement, str):\n",
    "    all_features = pd.read_csv(f'../computed_features/{desired_measurement}/all_features_windows.csv')\n",
    "    stand_features = pd.read_csv(f'../computed_features/{desired_measurement}/stand_features_windows.csv')\n",
    "else:\n",
    "    all_features = pd.read_csv(f'../computed_features/all_features_windows.csv')\n",
    "    stand_features = pd.read_csv(f'../computed_features/stand_features_windows.csv')\n",
    "\n",
    "features_names = utilities.get_feature_names(all_features, desired_measurement)\n",
    "\n",
    "features_to_cross_correlate = cross_correlation.get_features_to_cross_correlate(features_names)"
   ]
  },
  {
   "cell_type": "code",
   "execution_count": null,
   "metadata": {},
   "outputs": [],
   "source": [
    "groups = {\n",
    "    'g0': [1001, 1007],\n",
    "    'g1': [1003, 1008, 1013, 1015, 1020, 1022, 1024, 1025, 1026, 1033, 1040, 1041], \n",
    "    'g2': [1031, 1032, 1037, 1039, 1042]\n",
    "}\n",
    "\n",
    "features_to_use = utilities.select_features_from_subjects(stand_features, groups['g1'], include_neutral=True)"
   ]
  },
  {
   "cell_type": "markdown",
   "metadata": {},
   "source": [
    "# Grouping the features per emotion"
   ]
  },
  {
   "cell_type": "code",
   "execution_count": null,
   "metadata": {},
   "outputs": [],
   "source": [
    "features_grouping = utilities.group_features_by_label(features_to_use, windows=True)"
   ]
  },
  {
   "cell_type": "code",
   "execution_count": null,
   "metadata": {},
   "outputs": [],
   "source": [
    "for emotion in features_grouping.keys():\n",
    "    for row in range(len(features_grouping[emotion])):\n",
    "        features = features_grouping[emotion].iloc[row].index\n",
    "        for feature in features:\n",
    "            if feature != 'label':\n",
    "                basic = len(features_grouping[emotion].iloc[row][features[1]])\n",
    "                if basic != len(features_grouping[emotion].iloc[row][feature]):\n",
    "                    print(emotion, row, feature, basic, len(features_grouping[emotion].iloc[row][feature]))"
   ]
  },
  {
   "cell_type": "markdown",
   "metadata": {},
   "source": [
    "## Cross Correlation Analysis"
   ]
  },
  {
   "cell_type": "code",
   "execution_count": null,
   "metadata": {},
   "outputs": [],
   "source": [
    "cross_correlations = cross_correlation.get_cross_correlations(features_grouping, features_to_cross_correlate)\n",
    "lags_dict = cross_correlation.compare_max_lags(cross_correlations, features_names, intra_comparison = False, save = save)\n",
    "shifted_feature_pairs, centered_feature_pairs = cross_correlation.get_lag_stats(lags_dict, features_names, p_value = 0.05, verbose = False, save = save) "
   ]
  },
  {
   "cell_type": "markdown",
   "metadata": {},
   "source": [
    "Positive Lag: f1 leads f2\n",
    "\n",
    "Negative Lag: f2 leads f1"
   ]
  },
  {
   "cell_type": "code",
   "execution_count": null,
   "metadata": {},
   "outputs": [],
   "source": [
    "positive_shifts, negative_shifts, no_shifts = cross_correlation.get_shifts_stats(shifted_feature_pairs, features_names, save = save)"
   ]
  },
  {
   "cell_type": "code",
   "execution_count": null,
   "metadata": {},
   "outputs": [],
   "source": [
    "if save:\n",
    "    cross_correlation.save_cross_corr_graphs_to_pdf(cross_correlations, features_names)"
   ]
  },
  {
   "cell_type": "markdown",
   "metadata": {},
   "source": [
    "## Results"
   ]
  },
  {
   "cell_type": "code",
   "execution_count": null,
   "metadata": {},
   "outputs": [],
   "source": [
    "import json\n",
    "\n",
    "with open ('Analysis/Cross-Correlation/All Subjects/Audio/shifted_feature_pairs.json', 'r') as f:\n",
    "    shifted_feature_pairs = json.load(f)"
   ]
  },
  {
   "cell_type": "code",
   "execution_count": null,
   "metadata": {},
   "outputs": [],
   "source": [
    "consistent_shift_pos, consistent_shift_neg = cross_correlation.get_consistent_shift_pairs(shifted_feature_pairs, verbose = True)"
   ]
  },
  {
   "cell_type": "code",
   "execution_count": null,
   "metadata": {},
   "outputs": [],
   "source": [
    "cross_correlation.plot_cross_correlation(cross_correlations, 1001, 'Pride', 'eda_mean-accX_mean')"
   ]
  },
  {
   "cell_type": "code",
   "execution_count": null,
   "metadata": {},
   "outputs": [],
   "source": [
    "cross_correlation.plot_shift_stats(positive_shifts, negative_shifts, no_shifts, desired_measurement)"
   ]
  }
 ],
 "metadata": {
  "kernelspec": {
   "display_name": "mal",
   "language": "python",
   "name": "python3"
  },
  "language_info": {
   "codemirror_mode": {
    "name": "ipython",
    "version": 3
   },
   "file_extension": ".py",
   "mimetype": "text/x-python",
   "name": "python",
   "nbconvert_exporter": "python",
   "pygments_lexer": "ipython3",
   "version": "3.10.13"
  }
 },
 "nbformat": 4,
 "nbformat_minor": 2
}
