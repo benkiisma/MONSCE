{
 "cells": [
  {
   "cell_type": "markdown",
   "metadata": {},
   "source": [
    "This notebook contains the detailed extraction of the population statistics.\n",
    "\n",
    "- **Author**: Benkirane Ismail\n",
    "- **Email**: [ibenkirane@mgb.org](mailto:ibenkirane@mgb.org)\n",
    "- **Version**: 1.0.0\n",
    "- **Date**: 2023-10-19"
   ]
  },
  {
   "cell_type": "markdown",
   "metadata": {},
   "source": [
    "# Imports"
   ]
  },
  {
   "cell_type": "code",
   "execution_count": 1,
   "metadata": {},
   "outputs": [],
   "source": [
    "import sys\n",
    "import numpy as np\n",
    "import pandas as pd\n",
    "import seaborn as sns\n",
    "from collections import Counter\n",
    "import matplotlib.pyplot as plt\n",
    "\n",
    "sys.path.append('../')\n",
    "\n",
    "from utils import UTILITIES\n",
    "\n",
    "utilities = UTILITIES()"
   ]
  },
  {
   "cell_type": "markdown",
   "metadata": {},
   "source": [
    "# Get the Data"
   ]
  },
  {
   "cell_type": "code",
   "execution_count": null,
   "metadata": {},
   "outputs": [],
   "source": [
    "file_path = r\"F:\\MONSCE Data Edited\\RedCap Data\\NonVerbalMeasurement_DATA_LABELS_2023-11-01_1238.csv\"\n",
    "data = utilities.get_population_statistics(file_path)"
   ]
  },
  {
   "cell_type": "markdown",
   "metadata": {},
   "source": [
    "# Statistical Analysis"
   ]
  },
  {
   "cell_type": "code",
   "execution_count": null,
   "metadata": {},
   "outputs": [],
   "source": [
    "age_list = []\n",
    "ethnicity_list = []\n",
    "gender_list = []\n",
    "orientation_list = []\n",
    "time_since_positive_list = []\n",
    "\n",
    "subjects_to_not_consider = [1002, 1005, 1009, 1011, 1016, 1021, 1023, 1029, 1034, 1036]\n",
    "\n",
    "for subject_id in data.keys():\n",
    "    if int(subject_id) in subjects_to_not_consider:\n",
    "        continue\n",
    "    age_list.append(data[subject_id]['Age'])\n",
    "    ethnicity_list.append(data[subject_id]['Ethnicity'])\n",
    "    gender_list.append(data[subject_id]['Gender'])\n",
    "    orientation_list.append(data[subject_id]['Orientation'])\n",
    "    time_since_positive_list.append(2021-data[subject_id]['Date of Diagnosis'])"
   ]
  },
  {
   "cell_type": "markdown",
   "metadata": {},
   "source": [
    "# Express Plotting"
   ]
  },
  {
   "cell_type": "code",
   "execution_count": null,
   "metadata": {},
   "outputs": [],
   "source": [
    "fig, axes = plt.subplots(1, 2, figsize=(12, 5))\n",
    "fig.subplots_adjust(hspace=0.6, wspace=0.4) \n",
    "\n",
    "sns.histplot(age_list, kde=False, color='r', bins='auto', ax=axes[0])\n",
    "axes[0].set_title('Age Distribution')\n",
    "axes[0].set_xlabel('Age')\n",
    "axes[0].set_ylabel('Frequency')\n",
    "\n",
    "sns.histplot(time_since_positive_list, kde=False, color='r', bins='auto', ax=axes[1])\n",
    "axes[1].set_title('Years since initial HIV diagnosis Distribution')\n",
    "axes[1].set_xlabel('Years')\n",
    "axes[1].set_ylabel('Frequency')\n",
    "\n",
    "plt.show()\n",
    "\n",
    "fig, axes = plt.subplots(1, 3, figsize=(12, 5))\n",
    "fig.subplots_adjust(hspace=0.6, wspace=0.4) \n",
    "\n",
    "orientation_counts = Counter(orientation_list)\n",
    "df_orientation = pd.DataFrame(list(orientation_counts.items()), columns=['Sexual Orientation', 'Frequency'])\n",
    "sns.barplot(x='Sexual Orientation', y='Frequency', data=df_orientation, color='r', ax=axes[0])\n",
    "axes[0].set_title('Sexual Orientation Distribution')\n",
    "axes[0].set_xlabel('')\n",
    "axes[0].set_ylabel('Frequency')\n",
    "for label in axes[0].get_xticklabels():\n",
    "    label.set_rotation(45)  \n",
    "\n",
    "ethnicity_counts = Counter(ethnicity_list)\n",
    "df_ethnicity = pd.DataFrame(list(ethnicity_counts.items()), columns=['Ethnicity', 'Frequency'])\n",
    "sns.barplot(x='Ethnicity', y='Frequency', data=df_ethnicity, color='r', ax=axes[1])\n",
    "axes[1].set_title('Ethnicity Distribution')\n",
    "axes[1].set_xlabel('')\n",
    "axes[1].set_ylabel('Frequency')\n",
    "for label in axes[1].get_xticklabels():\n",
    "    label.set_rotation(45)  \n",
    "\n",
    "gender_counts = Counter(gender_list)\n",
    "df_gender = pd.DataFrame(list(gender_counts.items()), columns = ['Gender', 'Frequency'])\n",
    "sns.barplot(x='Gender', y='Frequency', data=df_gender, color='r', ax=axes[2])\n",
    "axes[2].set_title('Gender Distribution')\n",
    "axes[2].set_xlabel('')\n",
    "axes[2].set_ylabel('Frequency')\n",
    "for label in axes[2].get_xticklabels():\n",
    "    label.set_rotation(45)  \n",
    "\n",
    "plt.show()"
   ]
  },
  {
   "cell_type": "markdown",
   "metadata": {},
   "source": [
    "# Detailed Plotting"
   ]
  },
  {
   "cell_type": "markdown",
   "metadata": {},
   "source": [
    "## Age"
   ]
  },
  {
   "cell_type": "code",
   "execution_count": null,
   "metadata": {},
   "outputs": [],
   "source": [
    "print('Mean:', np.mean(age_list))\n",
    "print('Median:', np.median(age_list))\n",
    "print('Std:', np.std(age_list))\n",
    "print('Mode:', max(set(age_list), key=age_list.count))\n",
    "print('Range:', max(age_list)-min(age_list))\n",
    "\n",
    "sns.histplot(age_list, kde=False, color='red', bins='auto')\n",
    "\n",
    "plt.title('Age Distribution')\n",
    "plt.xlabel('Age')\n",
    "plt.ylabel('Frequency')\n",
    "\n",
    "plt.show()"
   ]
  },
  {
   "cell_type": "markdown",
   "metadata": {},
   "source": [
    "## Time elapsed since positive diagnosis"
   ]
  },
  {
   "cell_type": "code",
   "execution_count": null,
   "metadata": {},
   "outputs": [],
   "source": [
    "print('Mean:', np.mean(time_since_positive_list))\n",
    "print('Median:', np.median(time_since_positive_list))\n",
    "print('Std:', np.std(time_since_positive_list))\n",
    "print('Mode:', max(set(time_since_positive_list), key=time_since_positive_list.count))\n",
    "print('Range:', max(time_since_positive_list)-min(time_since_positive_list))\n",
    "\n",
    "sns.histplot(time_since_positive_list, kde=False, color='red', bins='auto')\n",
    "\n",
    "plt.title('Distribution')\n",
    "plt.xlabel('Time elapsed since positive diagnosis')\n",
    "plt.ylabel('Frequency')\n",
    "\n",
    "plt.show()"
   ]
  },
  {
   "cell_type": "markdown",
   "metadata": {},
   "source": [
    "## Gender"
   ]
  },
  {
   "cell_type": "code",
   "execution_count": null,
   "metadata": {},
   "outputs": [],
   "source": [
    "gender_counts = Counter(gender_list)\n",
    "\n",
    "print(gender_counts)\n",
    "\n",
    "df = pd.DataFrame(list(gender_counts.items()), columns = ['Gender', 'Frequency'])\n",
    "\n",
    "plt.figure(figsize=(4, 5))  \n",
    "sns.barplot(x='Gender', y='Frequency', data=df, palette=['red'])\n",
    "\n",
    "plt.title('Gender Distribution')\n",
    "plt.xlabel('Gender')\n",
    "plt.ylabel('Frequency')\n",
    "\n",
    "plt.tight_layout()  \n",
    "plt.show()"
   ]
  },
  {
   "cell_type": "markdown",
   "metadata": {},
   "source": [
    "## Ethnicity"
   ]
  },
  {
   "cell_type": "code",
   "execution_count": null,
   "metadata": {},
   "outputs": [],
   "source": [
    "ethnicity_counts = Counter(ethnicity_list)\n",
    "\n",
    "print(ethnicity_counts)\n",
    "\n",
    "df = pd.DataFrame(list(ethnicity_counts.items()), columns=['Ethnicity', 'Frequency'])\n",
    "\n",
    "plt.figure(figsize=(4,5))  \n",
    "sns.barplot(x='Ethnicity', y='Frequency', data=df, palette=['red'])\n",
    "\n",
    "plt.title('Ethnicity Distribution')\n",
    "plt.xlabel('Ethnicity')\n",
    "plt.ylabel('Frequency')\n",
    "\n",
    "plt.tight_layout()  \n",
    "plt.show()\n"
   ]
  },
  {
   "cell_type": "markdown",
   "metadata": {},
   "source": [
    "## Sexual Orientation"
   ]
  },
  {
   "cell_type": "code",
   "execution_count": null,
   "metadata": {},
   "outputs": [],
   "source": [
    "orientation_counts = Counter(orientation_list)\n",
    "\n",
    "print(orientation_counts)\n",
    "\n",
    "df = pd.DataFrame(list(orientation_counts.items()), columns=['Sexual Orientation', 'Frequency'])\n",
    "\n",
    "plt.figure(figsize=(6, 8))  \n",
    "sns.barplot(x='Sexual Orientation', y='Frequency', data=df, palette=['red'])\n",
    "\n",
    "plt.title('Sexual Orientation Distribution')\n",
    "plt.xlabel('Sexual Orientation')\n",
    "plt.ylabel('Frequency')\n",
    "\n",
    "plt.tight_layout()  \n",
    "plt.show()\n"
   ]
  },
  {
   "cell_type": "markdown",
   "metadata": {},
   "source": [
    "# Comparison across Clusters"
   ]
  },
  {
   "cell_type": "code",
   "execution_count": null,
   "metadata": {},
   "outputs": [],
   "source": [
    "clusters = {\n",
    "    'Cluster 1' : [1003, 1007, 1013, 1015, 1020, 1024, 1026],\n",
    "    'Cluster 2' : [1001, 1031, 1032, 1037, 1039],\n",
    "    'Cluster 3' : [1008, 1017, 1022, 1025, 1033, 1040, 1041, 1042]\n",
    "}"
   ]
  },
  {
   "cell_type": "code",
   "execution_count": null,
   "metadata": {},
   "outputs": [],
   "source": [
    "age_list = dict()\n",
    "ethnicity_list = dict()\n",
    "gender_list = dict()\n",
    "orientation_list = dict()\n",
    "time_since_positive_list = dict()\n",
    "\n",
    "subjects_to_not_consider = [1002, 1005, 1009, 1011, 1016, 1021, 1023, 1029, 1034, 1036]\n",
    "\n",
    "for idx, group in enumerate([clusters['Cluster 1'], clusters['Cluster 2'], clusters['Cluster 3']]):\n",
    "    age_list[f'Cluster{idx}'] = list()\n",
    "    ethnicity_list[f'Cluster{idx}'] = list()\n",
    "    gender_list[f'Cluster{idx}'] = list()\n",
    "    orientation_list[f'Cluster{idx}'] = list()\n",
    "    time_since_positive_list[f'Cluster{idx}'] = list()\n",
    "    for subject_id in data.keys():\n",
    "        if int(subject_id) in subjects_to_not_consider:\n",
    "            continue\n",
    "        if int(subject_id) in group:\n",
    "            age_list[f'Cluster{idx}'].append(data[subject_id]['Age'])\n",
    "            ethnicity_list[f'Cluster{idx}'].append(data[subject_id]['Ethnicity'])\n",
    "            gender_list[f'Cluster{idx}'].append(data[subject_id]['Gender'])\n",
    "            orientation_list[f'Cluster{idx}'].append(data[subject_id]['Orientation'])\n",
    "            time_since_positive_list[f'Cluster{idx}'].append(2021-data[subject_id]['Date of Diagnosis'])"
   ]
  },
  {
   "cell_type": "markdown",
   "metadata": {},
   "source": [
    "## Age"
   ]
  },
  {
   "cell_type": "code",
   "execution_count": null,
   "metadata": {},
   "outputs": [],
   "source": [
    "age_data = []\n",
    "for group, ages in age_list.items():\n",
    "    for age in ages:\n",
    "        age_data.append((age, group))\n",
    "\n",
    "df_age = pd.DataFrame(age_data, columns=['Age', 'Cluster'])\n",
    "\n",
    "df_age['Cluster'] = pd.Categorical(df_age['Cluster'], categories=['Cluster0', 'Cluster1', 'Cluster2'], ordered=True)\n",
    "\n",
    "plt.figure(figsize=(12, 8))\n",
    "sns.boxplot(x='Cluster', y='Age', data=df_age, color='lightgray')\n",
    "sns.stripplot(x='Cluster', y='Age', data=df_age, color='red', jitter=True, size=5)\n",
    "plt.title('Participant Ages by Cluster')\n",
    "plt.xlabel('')\n",
    "plt.ylabel('Age')\n",
    "\n",
    "plt.show()"
   ]
  },
  {
   "cell_type": "markdown",
   "metadata": {},
   "source": [
    "## Time Since Positive Diagnosis"
   ]
  },
  {
   "cell_type": "code",
   "execution_count": null,
   "metadata": {},
   "outputs": [],
   "source": [
    "time_since_positive_data = []\n",
    "for group, times in time_since_positive_list.items():\n",
    "    for time in times:\n",
    "        time_since_positive_data.append((time, group))\n",
    "\n",
    "df_time_since_positive = pd.DataFrame(time_since_positive_data, columns=['TimeSincePositive', 'Cluster'])\n",
    "\n",
    "df_time_since_positive['Cluster'] = pd.Categorical(df_time_since_positive['Cluster'], categories=['Cluster0', 'Cluster1', 'Cluster2'], ordered=True)\n",
    "\n",
    "plt.figure(figsize=(12, 8))\n",
    "sns.boxplot(x='Cluster', y='TimeSincePositive', data=df_time_since_positive, color='lightgray')\n",
    "sns.stripplot(x='Cluster', y='TimeSincePositive', data=df_time_since_positive, color='red', jitter=True, size=5)\n",
    "\n",
    "plt.title('Years Elapsed Since Positive by Cluster')\n",
    "plt.xlabel('')\n",
    "plt.ylabel('Years Since Diagnosis')\n",
    "\n",
    "plt.show()"
   ]
  },
  {
   "cell_type": "markdown",
   "metadata": {},
   "source": [
    "## Gender"
   ]
  },
  {
   "cell_type": "code",
   "execution_count": null,
   "metadata": {},
   "outputs": [],
   "source": [
    "gender_data = []\n",
    "for group, genders in gender_list.items():\n",
    "    for gender in genders:\n",
    "        gender_data.append((gender, group))\n",
    "\n",
    "df_gender = pd.DataFrame(gender_data, columns=['Gender', 'Cluster'])\n",
    "\n",
    "df_gender['Cluster'] = pd.Categorical(df_gender['Cluster'], categories=['Cluster0', 'Cluster1', 'Cluster2'], ordered=True)\n",
    "\n",
    "plt.figure(figsize=(12, 8))\n",
    "sns.countplot(x='Cluster', hue='Gender', data=df_gender, palette=['red', 'grey'])\n",
    "plt.title('Gender Distribution by Cluster')\n",
    "plt.xlabel('')\n",
    "plt.ylabel('Count')\n",
    "plt.legend(title='Gender')\n",
    "\n",
    "plt.show()"
   ]
  },
  {
   "cell_type": "markdown",
   "metadata": {},
   "source": [
    "## Sexual Orientation"
   ]
  },
  {
   "cell_type": "code",
   "execution_count": null,
   "metadata": {},
   "outputs": [],
   "source": [
    "orientation_data = []\n",
    "for group, orientations in orientation_list.items():\n",
    "    for orientation in orientations:\n",
    "        orientation_data.append((orientation, group))\n",
    "\n",
    "df_orientation = pd.DataFrame(orientation_data, columns=['Orientation', 'Cluster'])\n",
    "\n",
    "df_orientation['Cluster'] = pd.Categorical(df_orientation['Cluster'], categories=['Cluster0', 'Cluster1', 'Cluster2'], ordered=True)\n",
    "\n",
    "plt.figure(figsize=(12, 8))\n",
    "sns.countplot(x='Cluster', hue='Orientation', data=df_orientation, palette=['red', 'grey', 'pink'])\n",
    "plt.title('Sexual Orientation Distribution by Cluster')\n",
    "plt.xlabel('')\n",
    "plt.ylabel('Count')\n",
    "\n",
    "plt.legend(title='Orientation')\n",
    "\n",
    "plt.show()\n"
   ]
  },
  {
   "cell_type": "markdown",
   "metadata": {},
   "source": [
    "## Ethnicity"
   ]
  },
  {
   "cell_type": "code",
   "execution_count": null,
   "metadata": {},
   "outputs": [],
   "source": [
    "ethnicity_data = []\n",
    "for group, ethnicities in ethnicity_list.items():\n",
    "    for ethnicity in ethnicities:\n",
    "        ethnicity_data.append((ethnicity, group))\n",
    "\n",
    "df_ethnicity = pd.DataFrame(ethnicity_data, columns=['Ethnicity', 'Cluster'])\n",
    "\n",
    "df_ethnicity['Cluster'] = pd.Categorical(df_ethnicity['Cluster'], categories=['Cluster0', 'Cluster1', 'Cluster2'], ordered=True)\n",
    "\n",
    "plt.figure(figsize=(12, 8))\n",
    "sns.countplot(x='Cluster', hue='Ethnicity', data=df_ethnicity, palette=['grey', 'red'])\n",
    "plt.title('Ethnicity Distribution by Cluster')\n",
    "plt.xlabel('')\n",
    "plt.ylabel('Count')\n",
    "\n",
    "plt.legend(title='Ethnicity')\n",
    "\n",
    "plt.show()"
   ]
  }
 ],
 "metadata": {
  "kernelspec": {
   "display_name": "mal",
   "language": "python",
   "name": "python3"
  },
  "language_info": {
   "codemirror_mode": {
    "name": "ipython",
    "version": 3
   },
   "file_extension": ".py",
   "mimetype": "text/x-python",
   "name": "python",
   "nbconvert_exporter": "python",
   "pygments_lexer": "ipython3",
   "version": "3.10.13"
  }
 },
 "nbformat": 4,
 "nbformat_minor": 2
}
