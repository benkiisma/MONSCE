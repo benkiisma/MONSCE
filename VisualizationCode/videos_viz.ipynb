{
 "cells": [
  {
   "cell_type": "markdown",
   "metadata": {},
   "source": [
    "This notebook contains the detailed code to visualize video data.\n",
    "\n",
    "- **Author**: Benkirane Ismail\n",
    "- **Email**: [ibenkirane@mgb.org](mailto:ibenkirane@mgb.org)\n",
    "- **Version**: 1.0.0\n",
    "- **Date**: 2023-10-19"
   ]
  },
  {
   "cell_type": "markdown",
   "metadata": {},
   "source": [
    "## Imports"
   ]
  },
  {
   "cell_type": "code",
   "execution_count": null,
   "metadata": {},
   "outputs": [],
   "source": [
    "import socket\n",
    "import sys\n",
    "\n",
    "sys.path.append(\"../\")\n",
    "\n",
    "from utils import GENERAL, FEATURES"
   ]
  },
  {
   "cell_type": "markdown",
   "metadata": {},
   "source": [
    "## Get Metadata"
   ]
  },
  {
   "cell_type": "code",
   "execution_count": null,
   "metadata": {},
   "outputs": [],
   "source": [
    "computer_name = socket.gethostname()\n",
    "\n",
    "if computer_name == 'DESKTOP-P5S69RC':\n",
    "    path = \"E:\\MONSCE Data Edited\"\n",
    "elif computer_name == 'MAL-BIANCANEVE':\n",
    "    path = '/media/mal/Extreme SSD/MONSCE Data Edited'\n",
    "elif computer_name == 'MacBook-Pro-de-Ismail.local':\n",
    "    path = '/Volumes/Extreme SSD/MONSCE Data Edited'"
   ]
  },
  {
   "cell_type": "code",
   "execution_count": null,
   "metadata": {},
   "outputs": [],
   "source": [
    "include_neutral_emotion = True\n",
    "desired_features = ['Webcam', 'GoPro']\n",
    "subjects_to_remove = [1002, 1005]"
   ]
  },
  {
   "cell_type": "code",
   "execution_count": null,
   "metadata": {},
   "outputs": [],
   "source": [
    "general = GENERAL(path, include_neutral_emotion, desired_features, subjects_to_remove = subjects_to_remove)\n",
    "features = FEATURES(desired_features)"
   ]
  },
  {
   "cell_type": "markdown",
   "metadata": {},
   "source": [
    "## Load Data"
   ]
  },
  {
   "cell_type": "code",
   "execution_count": null,
   "metadata": {},
   "outputs": [],
   "source": [
    "data, tags = general.get_data()"
   ]
  },
  {
   "cell_type": "markdown",
   "metadata": {},
   "source": [
    "## Label Data"
   ]
  },
  {
   "cell_type": "code",
   "execution_count": null,
   "metadata": {},
   "outputs": [],
   "source": [
    "general.label_data(data)"
   ]
  },
  {
   "cell_type": "markdown",
   "metadata": {},
   "source": [
    "## Feature Visualization"
   ]
  },
  {
   "cell_type": "code",
   "execution_count": null,
   "metadata": {},
   "outputs": [],
   "source": [
    "subject = 1001\n",
    "emotion = 'Shame'"
   ]
  },
  {
   "cell_type": "markdown",
   "metadata": {},
   "source": [
    "### Webcam"
   ]
  },
  {
   "cell_type": "code",
   "execution_count": null,
   "metadata": {},
   "outputs": [],
   "source": [
    "features.visualize_webcam_features(data, subject, emotion, draw='areas')"
   ]
  },
  {
   "cell_type": "markdown",
   "metadata": {},
   "source": [
    "### Frontal Video"
   ]
  },
  {
   "cell_type": "code",
   "execution_count": null,
   "metadata": {},
   "outputs": [],
   "source": [
    "features.visualize_frontal_gopro_features(data, subject, emotion)"
   ]
  },
  {
   "cell_type": "markdown",
   "metadata": {},
   "source": [
    "### Lateral Video"
   ]
  },
  {
   "cell_type": "code",
   "execution_count": null,
   "metadata": {},
   "outputs": [],
   "source": [
    "features.visualize_lateral_gopro_videos(data, subject, emotion)"
   ]
  }
 ],
 "metadata": {
  "kernelspec": {
   "display_name": "mal",
   "language": "python",
   "name": "python3"
  },
  "language_info": {
   "codemirror_mode": {
    "name": "ipython",
    "version": 3
   },
   "file_extension": ".py",
   "mimetype": "text/x-python",
   "name": "python",
   "nbconvert_exporter": "python",
   "pygments_lexer": "ipython3",
   "version": "3.11.5"
  }
 },
 "nbformat": 4,
 "nbformat_minor": 2
}
