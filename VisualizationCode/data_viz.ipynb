{
 "cells": [
  {
   "cell_type": "markdown",
   "metadata": {},
   "source": [
    "This notebook contains the detailed detailed code to extract and save Empatica and Audio raw and filtered signals.\n",
    "\n",
    "- **Author**: Benkirane Ismail\n",
    "- **Email**: [ibenkirane@mgb.org](mailto:ibenkirane@mgb.org)\n",
    "- **Version**: 1.0.0\n",
    "- **Date**: 2023-10-19"
   ]
  },
  {
   "cell_type": "markdown",
   "metadata": {},
   "source": [
    "## Imports"
   ]
  },
  {
   "cell_type": "code",
   "execution_count": null,
   "metadata": {},
   "outputs": [],
   "source": [
    "import socket\n",
    "import sys\n",
    "\n",
    "sys.path.append(\"../\")\n",
    "\n",
    "from utils import EMPATICA, AUDIO, GENERAL, FEATURES, UTILITIES\n",
    "\n",
    "from IPython.display import Audio"
   ]
  },
  {
   "cell_type": "markdown",
   "metadata": {},
   "source": [
    "## Get Metadata"
   ]
  },
  {
   "cell_type": "code",
   "execution_count": null,
   "metadata": {},
   "outputs": [],
   "source": [
    "computer_name = socket.gethostname()\n",
    "\n",
    "if computer_name == 'Dell_01':\n",
    "    path = \"F:\\MONSCE Data Edited\"\n",
    "elif computer_name == 'MAL-BIANCANEVE':\n",
    "    path = '/media/mal/Extreme SSD/MONSCE Data Edited'\n",
    "elif computer_name == 'MacBook-Pro-de-Ismail.local':\n",
    "    path = '/Volumes/Extreme SSD/MONSCE Data Edited'"
   ]
  },
  {
   "cell_type": "code",
   "execution_count": null,
   "metadata": {},
   "outputs": [],
   "source": [
    "include_neutral_emotion = True\n",
    "desired_features = ['Empatica', 'Audio']\n",
    "subjects_to_remove = [1002, 1005, 1009, 1011, 1021, 1023, 1029, 1034]"
   ]
  },
  {
   "cell_type": "code",
   "execution_count": null,
   "metadata": {},
   "outputs": [],
   "source": [
    "general = GENERAL(path, include_neutral_emotion, desired_features, subjects_to_remove = subjects_to_remove)\n",
    "features = FEATURES(desired_features)\n",
    "audio = AUDIO()\n",
    "empatica = EMPATICA()\n",
    "utilities = UTILITIES()"
   ]
  },
  {
   "cell_type": "markdown",
   "metadata": {},
   "source": [
    "## Load & Label Data"
   ]
  },
  {
   "cell_type": "code",
   "execution_count": null,
   "metadata": {},
   "outputs": [],
   "source": [
    "data, tags = general.get_data()"
   ]
  },
  {
   "cell_type": "code",
   "execution_count": null,
   "metadata": {},
   "outputs": [],
   "source": [
    "general.label_data(data)"
   ]
  },
  {
   "cell_type": "markdown",
   "metadata": {},
   "source": [
    "## Visualize Empatica Data"
   ]
  },
  {
   "cell_type": "code",
   "execution_count": null,
   "metadata": {},
   "outputs": [],
   "source": [
    "subject_id = 1001\n",
    "data_type = 'temp'"
   ]
  },
  {
   "cell_type": "code",
   "execution_count": null,
   "metadata": {},
   "outputs": [],
   "source": [
    "empatica.plot_data(subject_id, data, data_type, filter = False)\n",
    "empatica.plot_data(subject_id, data, data_type, filter = True)"
   ]
  },
  {
   "cell_type": "code",
   "execution_count": null,
   "metadata": {},
   "outputs": [],
   "source": [
    "empatica.plot_labeled_data(subject_id, data, data_type, filter = True)"
   ]
  },
  {
   "cell_type": "markdown",
   "metadata": {},
   "source": [
    "### Save the Plots"
   ]
  },
  {
   "cell_type": "code",
   "execution_count": null,
   "metadata": {},
   "outputs": [],
   "source": [
    "empatica.save_empatica_data_to_pdf(data, \"Signals/Empatica/Empatica_raw_data_plots.pdf\", filter=False)\n",
    "empatica.save_empatica_data_to_pdf(data, \"Signals/Empatica/Empatica_filtered_data_plots.pdf\", filter=True)"
   ]
  },
  {
   "cell_type": "markdown",
   "metadata": {},
   "source": [
    "## Visualize Audio Data"
   ]
  },
  {
   "cell_type": "code",
   "execution_count": null,
   "metadata": {},
   "outputs": [],
   "source": [
    "subject_id = 1001\n",
    "emotion = 'Joy'"
   ]
  },
  {
   "cell_type": "code",
   "execution_count": null,
   "metadata": {},
   "outputs": [],
   "source": [
    "audio.plot_labeled_data(subject_id, data, filter = False, ploting_reduction_factor=100)"
   ]
  },
  {
   "cell_type": "code",
   "execution_count": null,
   "metadata": {},
   "outputs": [],
   "source": [
    "original_audio_data = data[subject_id]['Audio']['data']['Amplitude'][data[subject_id]['Audio']['data']['label']=='Shame']\n",
    "sample_rate = data[subject_id]['Audio']['sampling_rate']\n",
    "filtered_audio_data = utilities._filter_audio(original_audio_data, sample_rate)"
   ]
  },
  {
   "cell_type": "markdown",
   "metadata": {},
   "source": [
    "### Listen to the Raw and Filtered Audios"
   ]
  },
  {
   "cell_type": "code",
   "execution_count": null,
   "metadata": {},
   "outputs": [],
   "source": [
    "print(\"Original audio data\")\n",
    "Audio(original_audio_data, rate=sample_rate)"
   ]
  },
  {
   "cell_type": "code",
   "execution_count": null,
   "metadata": {},
   "outputs": [],
   "source": [
    "print(\"Filtered audio data\")\n",
    "Audio(filtered_audio_data, rate=sample_rate)"
   ]
  },
  {
   "cell_type": "markdown",
   "metadata": {},
   "source": [
    "### Save the plots"
   ]
  },
  {
   "cell_type": "code",
   "execution_count": null,
   "metadata": {},
   "outputs": [],
   "source": [
    "audio.save_audio_data_to_pdf(data, \"Signals/Audio/Audio_raw_data_plots.pdf\", filter=False)\n",
    "audio.save_audio_data_to_pdf(data, \"Signals/Audio/Audio_filtered_data_plots.pdf\", filter=True)"
   ]
  }
 ],
 "metadata": {
  "kernelspec": {
   "display_name": "mal",
   "language": "python",
   "name": "python3"
  },
  "language_info": {
   "codemirror_mode": {
    "name": "ipython",
    "version": 3
   },
   "file_extension": ".py",
   "mimetype": "text/x-python",
   "name": "python",
   "nbconvert_exporter": "python",
   "pygments_lexer": "ipython3",
   "version": "3.10.13"
  }
 },
 "nbformat": 4,
 "nbformat_minor": 2
}
