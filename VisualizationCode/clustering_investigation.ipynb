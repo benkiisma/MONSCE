{
 "cells": [
  {
   "cell_type": "markdown",
   "metadata": {},
   "source": [
    "This notebook contains the detailed clustering extraction and analysis.\n",
    "\n",
    "- **Author**: Benkirane Ismail\n",
    "- **Email**: [ibenkirane@mgb.org](mailto:ibenkirane@mgb.org)\n",
    "- **Version**: 1.0.0\n",
    "- **Date**: 2023-10-19"
   ]
  },
  {
   "cell_type": "markdown",
   "metadata": {},
   "source": [
    "## Imports"
   ]
  },
  {
   "cell_type": "code",
   "execution_count": null,
   "metadata": {},
   "outputs": [],
   "source": [
    "import sys\n",
    "import pandas as pd\n",
    "\n",
    "sys.path.append('../')\n",
    "\n",
    "from utils import UTILITIES, CORRELATION, FEATURES"
   ]
  },
  {
   "cell_type": "markdown",
   "metadata": {},
   "source": [
    "## Get Metadata"
   ]
  },
  {
   "cell_type": "code",
   "execution_count": null,
   "metadata": {},
   "outputs": [],
   "source": [
    "subject_coding ={\n",
    "    'Low': [1003, 1005, 1008, 1011, 1013, 1025, 1032, 1033, 1034, 1037, 1042],\n",
    "    \"Medium\": [1002, 1007, 1009, 1015, 1020, 1023, 1024, 1026, 1031, 1040, 1041],\n",
    "    'High': [1001, 1017, 1021, 1022, 1029, 1039]\n",
    "}\n",
    "\n",
    "subject_removed = [1002, 1005, 1009, 1011, 1016, 1021, 1023, 1029, 1034, 1036]"
   ]
  },
  {
   "cell_type": "code",
   "execution_count": null,
   "metadata": {},
   "outputs": [],
   "source": [
    "desired_measurement = ['Empatica', 'Transcript', 'Audio', 'FaceReader', 'GoPro', 'SRE']\n",
    "save = True"
   ]
  },
  {
   "cell_type": "code",
   "execution_count": null,
   "metadata": {},
   "outputs": [],
   "source": [
    "utilities = UTILITIES()\n",
    "correlation = CORRELATION(desired_measurement)\n",
    "features = FEATURES(desired_measurement)"
   ]
  },
  {
   "cell_type": "markdown",
   "metadata": {},
   "source": [
    "# Data Loading"
   ]
  },
  {
   "cell_type": "code",
   "execution_count": null,
   "metadata": {},
   "outputs": [],
   "source": [
    "if isinstance(desired_measurement, str):\n",
    "    all_features = pd.read_csv(f'../computed_features/{desired_measurement}/all_features.csv')\n",
    "    stand_features = pd.read_csv(f'../computed_features/{desired_measurement}/stand_features.csv')\n",
    "else:\n",
    "    all_features = pd.read_csv(f'../computed_features/all_features.csv')\n",
    "    stand_features = pd.read_csv(f'../computed_features/stand_features.csv')\n",
    "\n",
    "features_names = utilities.get_feature_names(all_features, desired_measurement)\n",
    "features_grouping = utilities.group_features_by_label(stand_features, affect_subject=True)"
   ]
  },
  {
   "cell_type": "markdown",
   "metadata": {},
   "source": [
    "# Express Clustering Analysis"
   ]
  },
  {
   "cell_type": "code",
   "execution_count": null,
   "metadata": {},
   "outputs": [],
   "source": [
    "if save:\n",
    "    features.save_all_clustering_results(stand_features)"
   ]
  },
  {
   "cell_type": "markdown",
   "metadata": {},
   "source": [
    "## Get Clustering"
   ]
  },
  {
   "cell_type": "code",
   "execution_count": null,
   "metadata": {},
   "outputs": [],
   "source": [
    "clusters_dict, feature_importance = features.get_subjects_clusters(features_grouping, analysis='single',method = 'Silhouette', nb_clusters=2, projections='PCA', plot=False)"
   ]
  },
  {
   "cell_type": "code",
   "execution_count": null,
   "metadata": {},
   "outputs": [],
   "source": [
    "coding_dict = features.map_subjects_to_code(clusters_dict, subject_coding)"
   ]
  },
  {
   "cell_type": "code",
   "execution_count": null,
   "metadata": {},
   "outputs": [],
   "source": [
    "clusters, count = features.get_subject_consistency(clusters_dict, verbose=True, min_nb_emotions=4)"
   ]
  },
  {
   "cell_type": "code",
   "execution_count": null,
   "metadata": {},
   "outputs": [],
   "source": [
    "for pair in count:\n",
    "    if count[pair] == 4:\n",
    "        print(pair)"
   ]
  },
  {
   "cell_type": "code",
   "execution_count": null,
   "metadata": {},
   "outputs": [],
   "source": [
    "features.plot_intersections(clusters_dict, nb_emotions=3) #only if 2 clsuters"
   ]
  },
  {
   "cell_type": "markdown",
   "metadata": {},
   "source": [
    "## Results"
   ]
  },
  {
   "cell_type": "markdown",
   "metadata": {},
   "source": [
    "### Clusters"
   ]
  },
  {
   "cell_type": "code",
   "execution_count": null,
   "metadata": {},
   "outputs": [],
   "source": [
    "for emotion in clusters_dict:\n",
    "    print(f'Emotion : {emotion}')\n",
    "    for cluster in clusters_dict[emotion]:\n",
    "        print(f'Cluster {cluster} : {clusters_dict[emotion][cluster]}')\n",
    "        for subject in clusters_dict[emotion][cluster]:\n",
    "            if subject in subject_coding['Low']:\n",
    "                print(f'{subject} : Low')\n",
    "            elif subject in subject_coding['Medium']:\n",
    "                print(f'{subject} : Medium')\n",
    "            elif subject in subject_coding['High']:\n",
    "                print(f'{subject} : High')"
   ]
  },
  {
   "cell_type": "markdown",
   "metadata": {},
   "source": [
    "### Feature Importance"
   ]
  },
  {
   "cell_type": "code",
   "execution_count": null,
   "metadata": {},
   "outputs": [],
   "source": [
    "for emotion in feature_importance.keys():\n",
    "    print(f'Emotion : {emotion}')\n",
    "    for cluster in feature_importance[emotion].keys():\n",
    "        print(\"   \", cluster)\n",
    "        for feature in feature_importance[emotion][cluster].keys():\n",
    "            if feature_importance[emotion][cluster][feature] == 0:\n",
    "                continue\n",
    "            print(f'        {feature} : {feature_importance[emotion][cluster][feature]}')"
   ]
  },
  {
   "cell_type": "markdown",
   "metadata": {},
   "source": [
    "### Visualize Subjects projections"
   ]
  },
  {
   "cell_type": "code",
   "execution_count": null,
   "metadata": {},
   "outputs": [],
   "source": [
    "features.plot_subjects_pca_projections(features_grouping)"
   ]
  },
  {
   "cell_type": "code",
   "execution_count": null,
   "metadata": {},
   "outputs": [],
   "source": [
    "features.plot_subject_coding_projections(features_grouping, subject_coding)"
   ]
  },
  {
   "cell_type": "code",
   "execution_count": null,
   "metadata": {},
   "outputs": [],
   "source": [
    "d = {\n",
    "    'Cluster 1' : [1003, 1007, 1013, 1015, 1020, 1024, 1026],\n",
    "    'Cluster 2' : [1001, 1031, 1032, 1037, 1039],\n",
    "    'Cluster 3' : [1008, 1017, 1022, 1025, 1033, 1040, 1041, 1042]\n",
    "}"
   ]
  },
  {
   "cell_type": "code",
   "execution_count": null,
   "metadata": {},
   "outputs": [],
   "source": [
    "features.plot_subject_coding_projections(features_grouping, d)"
   ]
  }
 ],
 "metadata": {
  "kernelspec": {
   "display_name": "mal",
   "language": "python",
   "name": "python3"
  },
  "language_info": {
   "codemirror_mode": {
    "name": "ipython",
    "version": 3
   },
   "file_extension": ".py",
   "mimetype": "text/x-python",
   "name": "python",
   "nbconvert_exporter": "python",
   "pygments_lexer": "ipython3",
   "version": "3.10.13"
  }
 },
 "nbformat": 4,
 "nbformat_minor": 2
}
