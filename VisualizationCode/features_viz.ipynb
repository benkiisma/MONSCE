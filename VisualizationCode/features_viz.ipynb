{
 "cells": [
  {
   "cell_type": "markdown",
   "metadata": {},
   "source": [
    "This notebook contains the detailed code to plot the feature projections.\n",
    "\n",
    "- **Author**: Benkirane Ismail\n",
    "- **Email**: [ibenkirane@mgb.org](mailto:ibenkirane@mgb.org)\n",
    "- **Version**: 1.0.0\n",
    "- **Date**: 2023-10-19"
   ]
  },
  {
   "cell_type": "markdown",
   "metadata": {},
   "source": [
    "## Imports"
   ]
  },
  {
   "cell_type": "code",
   "execution_count": null,
   "metadata": {},
   "outputs": [],
   "source": [
    "import pandas as pd\n",
    "import sys\n",
    "\n",
    "sys.path.append('../')\n",
    "\n",
    "from utils import UTILITIES, FEATURES"
   ]
  },
  {
   "cell_type": "markdown",
   "metadata": {},
   "source": [
    "## Metadata"
   ]
  },
  {
   "cell_type": "code",
   "execution_count": null,
   "metadata": {},
   "outputs": [],
   "source": [
    "desired_measurement = ['Empatica', 'Transcript', 'Audio', 'FaceReader', 'GoPro', 'SRE']\n",
    "save=True\n",
    "\n",
    "groups = {\n",
    "    'Group 1' : [1003, 1007, 1013, 1015, 1020, 1024, 1026],\n",
    "    'Group 2' : [1001, 1031, 1032, 1037, 1039],\n",
    "    'Group 3' : [1008, 1017, 1022, 1025, 1033, 1040, 1041, 1042],\n",
    "    'All Subjects': [1001, 1003, 1007, 1008, 1013, 1015, 1017, 1020, 1022, 1024, 1025, 1026, 1031, 1032, 1033, 1037, 1039, 1040, 1041]\n",
    "    }"
   ]
  },
  {
   "cell_type": "code",
   "execution_count": null,
   "metadata": {},
   "outputs": [],
   "source": [
    "utilities = UTILITIES()\n",
    "features = FEATURES(desired_measurement)"
   ]
  },
  {
   "cell_type": "markdown",
   "metadata": {},
   "source": [
    "## Load Data"
   ]
  },
  {
   "cell_type": "code",
   "execution_count": null,
   "metadata": {},
   "outputs": [],
   "source": [
    "if isinstance(desired_measurement, str):\n",
    "    all_features = pd.read_csv(f'../computed_features/{desired_measurement}/all_features.csv')\n",
    "    stand_features = pd.read_csv(f'../computed_features/{desired_measurement}/stand_features.csv')\n",
    "else:\n",
    "    all_features = pd.read_csv(f'../computed_features/all_features.csv')\n",
    "    stand_features = pd.read_csv(f'../computed_features/stand_features.csv')\n",
    "\n",
    "features_names = utilities.get_feature_names(all_features, desired_measurement)"
   ]
  },
  {
   "cell_type": "markdown",
   "metadata": {},
   "source": [
    "## Express Plotting"
   ]
  },
  {
   "cell_type": "code",
   "execution_count": null,
   "metadata": {},
   "outputs": [],
   "source": [
    "if save:\n",
    "    selected_features = features.get_all_projections(stand_features, features_names, groups, nb_selected_features=15, save=save)"
   ]
  },
  {
   "cell_type": "markdown",
   "metadata": {},
   "source": [
    "## Detailed Analysis"
   ]
  },
  {
   "cell_type": "markdown",
   "metadata": {},
   "source": [
    "### Getting the right subjects"
   ]
  },
  {
   "cell_type": "code",
   "execution_count": null,
   "metadata": {},
   "outputs": [],
   "source": [
    "features_to_use = utilities.select_features_from_subjects(stand_features, groups['All Subjects'], include_neutral=True)"
   ]
  },
  {
   "cell_type": "markdown",
   "metadata": {},
   "source": [
    "### Setting the data that will be used"
   ]
  },
  {
   "cell_type": "code",
   "execution_count": null,
   "metadata": {},
   "outputs": [],
   "source": [
    "X, y, selected_features = features.get_projection_sets(features_to_use, 'Shame vs Positive', features_names, feature_selection=True, nb_selected_features=15) # 'Positive vs Negative' 'Neutral vs Non-Neutral' 'Shame vs Positive' 'Shame vs Others' 'All Emotions'"
   ]
  },
  {
   "cell_type": "markdown",
   "metadata": {},
   "source": [
    "### Visualization"
   ]
  },
  {
   "cell_type": "markdown",
   "metadata": {},
   "source": [
    "#### PCA"
   ]
  },
  {
   "cell_type": "code",
   "execution_count": null,
   "metadata": {},
   "outputs": [],
   "source": [
    "features.plot_pca_projection(X, y, nb_components=2, dim='2D')"
   ]
  },
  {
   "cell_type": "markdown",
   "metadata": {},
   "source": [
    "#### t-SNE Viz"
   ]
  },
  {
   "cell_type": "code",
   "execution_count": null,
   "metadata": {},
   "outputs": [],
   "source": [
    "features.plot_tsne_projection(X, y, nb_component=2, verbose=False, perplexity=10, n_iter=500)"
   ]
  },
  {
   "cell_type": "markdown",
   "metadata": {},
   "source": [
    "### Sammon Mapping"
   ]
  },
  {
   "cell_type": "code",
   "execution_count": null,
   "metadata": {},
   "outputs": [],
   "source": [
    "features.plot_sammon_projection(X, y, nb_component=2, max_iter=3000, eps=1e-3, n_init=500, random_state=42)"
   ]
  }
 ],
 "metadata": {
  "kernelspec": {
   "display_name": "mal",
   "language": "python",
   "name": "python3"
  },
  "language_info": {
   "codemirror_mode": {
    "name": "ipython",
    "version": 3
   },
   "file_extension": ".py",
   "mimetype": "text/x-python",
   "name": "python",
   "nbconvert_exporter": "python",
   "pygments_lexer": "ipython3",
   "version": "3.10.13"
  }
 },
 "nbformat": 4,
 "nbformat_minor": 2
}
